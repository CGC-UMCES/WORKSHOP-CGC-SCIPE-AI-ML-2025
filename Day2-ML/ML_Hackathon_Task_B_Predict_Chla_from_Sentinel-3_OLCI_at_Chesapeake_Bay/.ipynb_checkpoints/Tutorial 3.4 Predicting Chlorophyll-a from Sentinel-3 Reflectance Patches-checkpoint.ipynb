{
 "cells": [
  {
   "cell_type": "markdown",
   "id": "02869262-7b21-4970-8f80-93bb897d2cce",
   "metadata": {},
   "source": [
    "# Tutorial 3.4: Predicting Chlorophyll-a from Sentinel-3 Reflectance Patches\n",
    "\n",
    "This notebook is the **Final Step** for the *Predicting Chla from Sentinel-3 OLCI at Chesapeake Bay Tutorial Series*.\n",
    "\n",
    "### 3.4.1 Introduction\n",
    "In this tutorial, we:\n",
    "- Load pre-extracted Sentinel-3 OLCI reflectance patches (saved as `.npz` files)\n",
    "- Extract reflectance features and compute derived band ratios\n",
    "- Train and evaluate machine learning models (Random Forest and MLP) to predict in-situ chlorophyll-a concentrations\n",
    "\n",
    "📂 Input files:\n",
    "- Reflectance patches: `MatchedPatches/*.npz`\n",
    "- Patch metadata: `MatchedPatches/patch_index.csv`\n"
   ]
  },
  {
   "cell_type": "markdown",
   "id": "928cc28f-785b-49d7-b5fd-645fbe71a187",
   "metadata": {},
   "source": [
    "### 3.4.2 Load Patch Index and Filter Valid Samples\n",
    "\n",
    "We load the metadata index and filter out patches with excessive cloud cover or invalid CHLa values.\n"
   ]
  },
  {
   "cell_type": "code",
   "execution_count": 66,
   "id": "0483e52d-9291-43ad-a10e-569bb896a9bf",
   "metadata": {},
   "outputs": [
    {
     "name": "stdout",
     "output_type": "stream",
     "text": [
      "📆 Total patches in index: 1012\n",
      "✅ Using 633 patches with mask_frac >= 0.75\n"
     ]
    }
   ],
   "source": [
    "import os\n",
    "import numpy as np\n",
    "import pandas as pd\n",
    "import matplotlib.pyplot as plt\n",
    "import seaborn as sns\n",
    "from sklearn.model_selection import train_test_split\n",
    "from sklearn.ensemble import RandomForestRegressor\n",
    "from sklearn.neural_network import MLPRegressor\n",
    "from sklearn.metrics import r2_score\n",
    "\n",
    "# === Settings ===\n",
    "patch_dir = \"MatchedPatches\"\n",
    "index_file = os.path.join(patch_dir, \"patch_index.csv\")\n",
    "mask_thresh = 0.75\n",
    "chla_range = (0.01, 200)\n",
    "patch_radius = 3  # Each patch is 6×6; radius = 3 means center at (3,3)\n",
    "\n",
    "# Reflectance bands: 443, 490, 510, 555, 560, 565, 708, 753.75 nm\n",
    "band_indices = [2, 3, 4, 5, 6, 7, 10, 13]\n",
    "band_labels = [\"443\", \"490\", \"510\", \"555\", \"560\", \"565\", \"708\", \"753\"]\n",
    "\n",
    "# === Load patch metadata ===\n",
    "patch_idx = pd.read_csv(index_file)\n",
    "print(f\"📆 Total patches in index: {len(patch_idx)}\")\n",
    "patch_idx = patch_idx[patch_idx[\"mask_frac\"] >= mask_thresh]\n",
    "print(f\"✅ Using {len(patch_idx)} patches with mask_frac >= {mask_thresh}\")\n"
   ]
  },
  {
   "cell_type": "markdown",
   "id": "3c1c51f0-95ba-4050-adf0-5f9014bfe9bc",
   "metadata": {},
   "source": [
    "### 3.4.3 Extract Reflectance Features and Derived Ratios\n",
    "\n",
    "We load each patch, extract reflectance values from selected bands, and compute band ratios (including OC4Me-like indices).\n"
   ]
  },
  {
   "cell_type": "code",
   "execution_count": 69,
   "id": "15cb9b7a-e7b8-43b3-b439-f4d89795c619",
   "metadata": {},
   "outputs": [
    {
     "name": "stdout",
     "output_type": "stream",
     "text": [
      "⚠️ Skipped 2021-08-25_39.441490_-76.025990.npz: CHLa is NaN or Inf (nan)\n",
      "⚠️ Skipped 2022-03-16_39.441490_-76.025990.npz: CHLa is NaN or Inf (nan)\n"
     ]
    },
    {
     "name": "stderr",
     "output_type": "stream",
     "text": [
      "/var/folders/zp/f07tkd011lb08nh330c0ct600000gn/T/ipykernel_60459/1788522737.py:23: RuntimeWarning: All-NaN slice encountered\n",
      "  median_vals = np.nanmedian(vals_filtered, axis=(0, 1))\n"
     ]
    },
    {
     "name": "stdout",
     "output_type": "stream",
     "text": [
      "\n",
      "📊 Total: 633\n",
      "   ➤ Skipped CHLa: 2\n",
      "   ➤ Skipped patches: 63\n",
      "   ➤ Final samples: 568\n",
      "📦 After filtering: 568 samples × 13 features\n"
     ]
    }
   ],
   "source": [
    "\n",
    "# === Extract features from patches ===\n",
    "X_list, y_list = [], []\n",
    "total, skipped_chla, skipped_patch = 0, 0, 0\n",
    "center_i, center_j = 3, 3  # center of 6x6 patch\n",
    "\n",
    "for _, row in patch_idx.iterrows():\n",
    "    total += 1\n",
    "    try:\n",
    "        data = np.load(os.path.join(patch_dir, row[\"file\"]))\n",
    "        cube = data[\"patch\"]*10000   # Rescale reflectance to integer-like range\n",
    "        y = row[\"Measure\"]\n",
    "\n",
    "        if np.isnan(y) or np.isinf(y):\n",
    "            skipped_chla += 1\n",
    "            print(f\"⚠️ Skipped {row['file']}: CHLa is NaN or Inf ({y})\")\n",
    "            continue\n",
    "\n",
    "        patch = cube[center_i - patch_radius:center_i + patch_radius,\n",
    "                     center_j - patch_radius:center_j + patch_radius, :]\n",
    "        vals = patch[:, :, band_indices]\n",
    "\n",
    "        vals_filtered = np.where(vals <= 0, np.nan, vals)\n",
    "        median_vals = np.nanmedian(vals_filtered, axis=(0, 1))\n",
    "\n",
    "        if np.any(np.isnan(median_vals)) or np.any(np.isinf(median_vals)) or np.any(median_vals <= 0):\n",
    "            skipped_patch += 1\n",
    "            continue\n",
    "\n",
    "        # === Derived Band Ratios ===\n",
    "        b = median_vals\n",
    "        ratios = [\n",
    "            b[0] / b[4],                                  # 443 / 560\n",
    "            b[1] / b[4],                                  # 490 / 560\n",
    "            b[6] / b[5],                                  # 708 / 555\n",
    "            max(b[0], b[1], b[2]) / np.mean([b[4], b[5]]), # OC4Me-style\n",
    "            np.log10(b[6] / b[4])                         # log10(708/560)\n",
    "        ]\n",
    "\n",
    "        features = np.concatenate([median_vals, ratios])\n",
    "        X_list.append(features)\n",
    "        y_list.append(y)\n",
    "\n",
    "    except Exception as e:\n",
    "        skipped_patch += 1\n",
    "        continue\n",
    "\n",
    "# === Summary ===\n",
    "print(f\"\\n📊 Total: {total}\")\n",
    "print(f\"   ➤ Skipped CHLa: {skipped_chla}\")\n",
    "print(f\"   ➤ Skipped patches: {skipped_patch}\")\n",
    "print(f\"   ➤ Final samples: {len(X_list)}\")\n",
    "\n",
    "# === Convert to arrays and apply range filter ===\n",
    "X = np.array(X_list)\n",
    "y = np.array(y_list)\n",
    "mask = (y > chla_range[0]) & (y < chla_range[1])\n",
    "X = X[mask]\n",
    "y = y[mask]\n",
    "print(f\"📦 After filtering: {X.shape[0]} samples × {X.shape[1]} features\")"
   ]
  },
  {
   "cell_type": "markdown",
   "id": "f64077c2-6295-4b38-9543-5ca11784af6b",
   "metadata": {},
   "source": [
    "### 3.4.4 Train Random Forest and MLP Models\n",
    "\n",
    "In this step, we train two machine learning models—**Random Forest** and **Multi-Layer Perceptron (MLP)**—to predict in-situ chlorophyll-a concentrations based on extracted reflectance features and derived band ratios.\n",
    "\n",
    "We evaluate both models using a held-out test set and compare their predictive performance using the coefficient of determination (R²).\n"
   ]
  },
  {
   "cell_type": "code",
   "execution_count": 70,
   "id": "3b6664a1-9d65-4d27-b160-8d0979bc5a4e",
   "metadata": {},
   "outputs": [
    {
     "name": "stdout",
     "output_type": "stream",
     "text": [
      "🧪 Train: 454 | Test: 114\n"
     ]
    },
    {
     "data": {
      "image/png": "[encoded data removed]",
      "text/plain": [
       "<Figure size 1200x500 with 2 Axes>"
      ]
     },
     "metadata": {},
     "output_type": "display_data"
    }
   ],
   "source": [
    "# === Train/Test Split ===\n",
    "X_train, X_test, y_train, y_test = train_test_split(X, y, test_size=0.2, random_state=42)\n",
    "print(f\"🧪 Train: {len(X_train)} | Test: {len(X_test)}\")\n",
    "\n",
    "# === Random Forest ===\n",
    "rf = RandomForestRegressor(n_estimators=500, random_state=42)\n",
    "rf.fit(X_train, y_train)\n",
    "rf_pred = rf.predict(X_test)\n",
    "rf_r2 = r2_score(y_test, rf_pred)\n",
    "\n",
    "# === MLP ===\n",
    "mlp = MLPRegressor(hidden_layer_sizes=(64, 32), max_iter=500, random_state=42)\n",
    "mlp.fit(X_train, y_train)\n",
    "mlp_pred = mlp.predict(X_test)\n",
    "mlp_r2 = r2_score(y_test, mlp_pred)\n",
    "\n",
    "# === Plot Results ===\n",
    "fig, axs = plt.subplots(1, 2, figsize=(12, 5))\n",
    "sns.scatterplot(x=y_test, y=rf_pred, ax=axs[0])\n",
    "axs[0].set_title(f\"Random Forest (R² = {rf_r2:.3f})\")\n",
    "axs[0].set_xlabel(\"True CHLa\")\n",
    "axs[0].set_ylabel(\"Predicted CHLa\")\n",
    "axs[0].grid(True)\n",
    "\n",
    "sns.scatterplot(x=y_test, y=mlp_pred, ax=axs[1])\n",
    "axs[1].set_title(f\"MLP Regressor (R² = {mlp_r2:.3f})\")\n",
    "axs[1].set_xlabel(\"True CHLa\")\n",
    "axs[1].set_ylabel(\"Predicted CHLa\")\n",
    "axs[1].grid(True)\n",
    "\n",
    "plt.tight_layout()\n",
    "plt.show()\n"
   ]
  },
  {
   "cell_type": "markdown",
   "id": "6805bf8f-a19a-4f82-8309-78f1e922fe16",
   "metadata": {},
   "source": [
    "## Want to do some Exercise?"
   ]
  },
  {
   "cell_type": "markdown",
   "id": "997ebebf-24c4-4c82-ae46-749a03624573",
   "metadata": {},
   "source": [
    "Use these exercises to test how different data preparation and model parameters affect your results."
   ]
  },
  {
   "cell_type": "markdown",
   "id": "949787f4-5340-4f60-87d8-4506a2e0a2f3",
   "metadata": {
    "jp-MarkdownHeadingCollapsed": true
   },
   "source": [
    "### Q1. Change the Cloud Masking Threshold"
   ]
  },
  {
   "cell_type": "markdown",
   "id": "46455fc5-17a1-498f-9f3c-12d1b944416c",
   "metadata": {},
   "source": [
    "**Go to section: 3.4.2 Load Patch Index and Filter Valid Samples**\n",
    "\n",
    "Look for this line:\n",
    "\n",
    "mask_thresh = 0.75\n",
    "\n",
    "Change it to other number"
   ]
  },
  {
   "cell_type": "markdown",
   "id": "af353db5-ee1e-467c-b8ae-726637fe7c26",
   "metadata": {
    "jp-MarkdownHeadingCollapsed": true
   },
   "source": [
    "### Q2. RF: Modify Random Forest Hyperparameters"
   ]
  },
  {
   "cell_type": "markdown",
   "id": "813d081e-ec2f-436a-949c-965cfefa4d74",
   "metadata": {},
   "source": [
    "**Go to section: 3.4.4 Train Random Forest and MLP Models**\n",
    "\n",
    "Look for this line:\n",
    "    \n",
    "rf = RandomForestRegressor(n_estimators=500, random_state=42)\n",
    "\n",
    "Change the numbers"
   ]
  },
  {
   "cell_type": "markdown",
   "id": "43223903-5b9c-44af-8348-d8a04540cfa3",
   "metadata": {
    "jp-MarkdownHeadingCollapsed": true
   },
   "source": [
    "### Q3. MLP: Modify MLP Architecture"
   ]
  },
  {
   "cell_type": "markdown",
   "id": "3b7a1e1c-778b-4e1b-9988-1cceb132899e",
   "metadata": {},
   "source": [
    "**Go to section: 3.4.4 Train Random Forest and MLP Models**\n",
    "\n",
    "Look for this block:\n",
    "\n",
    "mlp = Sequential([\n",
    "    Dense(128, activation='relu', input_shape=(X_train.shape[1],)),\n",
    "    Dropout(0.2),\n",
    "    Dense(64, activation='relu'),\n",
    "    Dense(1)\n",
    "])\n",
    "\n",
    "Try deeper or simpler models:\n",
    "\n",
    "mlp = Sequential([\n",
    "    Dense(128, activation='relu', input_shape=(X_train.shape[1],)),\n",
    "    Dropout(0.2),\n",
    "    #Dense(64, activation='relu'),\n",
    "    #Dense(32, activation='relu'),\n",
    "    Dense(1)\n",
    "])"
   ]
  },
  {
   "cell_type": "markdown",
   "id": "b7a35d17-6998-4355-bde4-aa2b6ea79658",
   "metadata": {
    "jp-MarkdownHeadingCollapsed": true
   },
   "source": [
    "### Q4. Performance on the Match up patches within ± 2 days "
   ]
  },
  {
   "cell_type": "markdown",
   "id": "25d9ea73-7ca1-4253-aef5-3312b2a03c5f",
   "metadata": {},
   "source": [
    "**Go to section: 3.4.2 Load Patch Index and Filter Valid Samples\n",
    "\n",
    "Look for this line:\n",
    "\n",
    "matched_dir = \"MatchedPatches\"\n",
    "\n",
    "change to \n",
    "matched_dir = \"MatchedPatches±2Days\"\n"
   ]
  }
 ],
 "metadata": {
  "kernelspec": {
   "display_name": "Python 3 (ipykernel)",
   "language": "python",
   "name": "python3"
  },
  "language_info": {
   "codemirror_mode": {
    "name": "ipython",
    "version": 3
   },
   "file_extension": ".py",
   "mimetype": "text/x-python",
   "name": "python",
   "nbconvert_exporter": "python",
   "pygments_lexer": "ipython3",
   "version": "3.10.17"
  }
 },
 "nbformat": 4,
 "nbformat_minor": 5
}
